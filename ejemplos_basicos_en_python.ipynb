{
  "nbformat": 4,
  "nbformat_minor": 0,
  "metadata": {
    "colab": {
      "provenance": [],
      "authorship_tag": "ABX9TyNb3PTeoHgYAnSIqOKsuHvY",
      "include_colab_link": true
    },
    "kernelspec": {
      "name": "python3",
      "display_name": "Python 3"
    },
    "language_info": {
      "name": "python"
    }
  },
  "cells": [
    {
      "cell_type": "markdown",
      "metadata": {
        "id": "view-in-github",
        "colab_type": "text"
      },
      "source": [
        "<a href=\"https://colab.research.google.com/github/julessosa/progra_lll/blob/main/ejemplos_basicos_en_python.ipynb\" target=\"_parent\"><img src=\"https://colab.research.google.com/assets/colab-badge.svg\" alt=\"Open In Colab\"/></a>"
      ]
    },
    {
      "cell_type": "code",
      "execution_count": null,
      "metadata": {
        "colab": {
          "base_uri": "https://localhost:8080/"
        },
        "id": "_eKvahP-Gct8",
        "outputId": "4532d902-7098-4f85-d0bc-d54582c3a595"
      },
      "outputs": [
        {
          "output_type": "stream",
          "name": "stdout",
          "text": [
            "Hola mundo\n"
          ]
        }
      ],
      "source": [
        "saludo = \"Hola mundo\"\n",
        "\n",
        "print(saludo)"
      ]
    },
    {
      "cell_type": "code",
      "source": [
        "num1 = 5\n",
        "num2 = 7.5\n",
        "resp = num1 + num2\n",
        "print(\"la suma de\", num1, \"+\", num2, \"+\", resp)\n"
      ],
      "metadata": {
        "colab": {
          "base_uri": "https://localhost:8080/"
        },
        "id": "a8o7tHU7Izmu",
        "outputId": "02079ff3-d3bc-4a02-d6ac-9ddc5d0861f4"
      },
      "execution_count": null,
      "outputs": [
        {
          "output_type": "stream",
          "name": "stdout",
          "text": [
            "la suma de 5 + 7.5 + 12.5\n"
          ]
        }
      ]
    },
    {
      "cell_type": "code",
      "source": [
        "name = \"Julissa Sosa\"\n",
        "edad = 20\n",
        "saludo = \"Hola \" + name +\", tu edad \" + str (edad)\n",
        "print(saludo)"
      ],
      "metadata": {
        "colab": {
          "base_uri": "https://localhost:8080/"
        },
        "id": "3xZyYTiQKG7D",
        "outputId": "4df229a7-078a-47cc-dbf9-da86790ab4e4"
      },
      "execution_count": null,
      "outputs": [
        {
          "output_type": "stream",
          "name": "stdout",
          "text": [
            "Hola Julissa Sosa, tu edad 20\n"
          ]
        }
      ]
    },
    {
      "cell_type": "code",
      "source": [
        "nombre = input(\"dime tu nombre:\")\n",
        "edad = input(\"tu edad:\")\n",
        "saludo = \"hola que tal \" + nombre + \", tu edad: \" + edad\n",
        "print(saludo)"
      ],
      "metadata": {
        "colab": {
          "base_uri": "https://localhost:8080/"
        },
        "id": "H7Iyxqg2LQut",
        "outputId": "1ef2ef24-54d5-4e19-afaa-f0eec8361ec4"
      },
      "execution_count": null,
      "outputs": [
        {
          "output_type": "stream",
          "name": "stdout",
          "text": [
            "dime tu nombre:julissa \n",
            "tu edad:20\n",
            "hola que tal julissa , tu edad: 20\n"
          ]
        }
      ]
    },
    {
      "cell_type": "code",
      "source": [
        "num1 =  int(input(\"ingresa un numero: \"))\n",
        "num2 = int(input(\"ingresa un numero: \"))\n",
        "resp = num1 + num2\n",
        "print (\"la suma de\" + str(resp))\n",
        "\n"
      ],
      "metadata": {
        "id": "VllyaGE_Mgw3"
      },
      "execution_count": null,
      "outputs": []
    },
    {
      "cell_type": "code",
      "source": [
        "num1 = float(input(\"num1:\"))\n",
        "num2 = float(input(\"num2:\"))\n",
        "resp = num1 - num2\n",
        "print(\"la resta es: \", resp)\n"
      ],
      "metadata": {
        "colab": {
          "base_uri": "https://localhost:8080/"
        },
        "id": "bE4nNZncPFsP",
        "outputId": "9838aa63-d479-446c-f255-38aa5af14374"
      },
      "execution_count": null,
      "outputs": [
        {
          "output_type": "stream",
          "name": "stdout",
          "text": [
            "num1:2.5\n",
            "num2:1.3\n",
            "la resta es:  1.2\n"
          ]
        }
      ]
    },
    {
      "cell_type": "markdown",
      "source": [
        "Introduccion a python\n",
        "\n",
        "Declaracion de variables"
      ],
      "metadata": {
        "id": "SSlR0VevHnct"
      }
    },
    {
      "cell_type": "markdown",
      "source": [
        "**FUNCIONES DE USURARIO**\n",
        "\n",
        "  *CONVERTIR GRADOS CELSIUS A FARENHEIT"
      ],
      "metadata": {
        "id": "OLVPLrULAth5"
      }
    },
    {
      "cell_type": "code",
      "source": [
        "def convertir (c):\n",
        "  return c*9/5 + 32"
      ],
      "metadata": {
        "id": "_b2Dq-zQBwzB"
      },
      "execution_count": null,
      "outputs": []
    },
    {
      "cell_type": "code",
      "source": [
        "c = float(input(\"celsius: \"))\n",
        "print(\"F: \", convertir(c))\n"
      ],
      "metadata": {
        "colab": {
          "base_uri": "https://localhost:8080/"
        },
        "id": "JDqkwQpPA3LC",
        "outputId": "fbbc1f29-17df-474b-d134-e44bbf66316b"
      },
      "execution_count": null,
      "outputs": [
        {
          "output_type": "stream",
          "name": "stdout",
          "text": [
            "celsius: 42\n",
            "F:  107.6\n"
          ]
        }
      ]
    },
    {
      "cell_type": "code",
      "source": [
        "def convertir (F):\n",
        "  return (F-32) *5/9"
      ],
      "metadata": {
        "id": "EZj-m7xyFGFx"
      },
      "execution_count": null,
      "outputs": []
    },
    {
      "cell_type": "code",
      "source": [
        "F = float(input(\"farenheit: \"))\n",
        "print(\"c: \", convertir(F))"
      ],
      "metadata": {
        "colab": {
          "base_uri": "https://localhost:8080/"
        },
        "id": "m-9TG1upE62y",
        "outputId": "5e665cce-82c2-4333-aa79-c084bdbb6c7b"
      },
      "execution_count": null,
      "outputs": [
        {
          "output_type": "stream",
          "name": "stdout",
          "text": [
            "farenheit: 107.6\n",
            "c:  42.0\n"
          ]
        }
      ]
    },
    {
      "cell_type": "code",
      "source": [
        "def convertir (f):\n",
        "  return (f-32) *5/9 + 273.15"
      ],
      "metadata": {
        "id": "UALEqN6vHTJI"
      },
      "execution_count": null,
      "outputs": []
    },
    {
      "cell_type": "code",
      "source": [
        "f = float(input(\"farenheit: \"))\n",
        "print(\"K: \", convertir(f))\n"
      ],
      "metadata": {
        "colab": {
          "base_uri": "https://localhost:8080/"
        },
        "id": "DNbwRetbGsvp",
        "outputId": "169e3d46-6b5f-4b1e-a720-2892a3c80d1f"
      },
      "execution_count": null,
      "outputs": [
        {
          "output_type": "stream",
          "name": "stdout",
          "text": [
            "farenheit: 107.6\n",
            "K:  315.15\n"
          ]
        }
      ]
    },
    {
      "cell_type": "markdown",
      "source": [
        "CALCULAR EL SUELDO MENSUAL"
      ],
      "metadata": {
        "id": "BIkdiq6RKHF9"
      }
    },
    {
      "cell_type": "code",
      "source": [
        "def sueldo(numHrs, valorXhr):\n",
        "  sueldo = numHrs*valorXhr*30\n",
        "  if (numHrs>8):\n",
        "    sueldo += (numHrs-8)*valorXhr*2*30\n",
        "    #isss + afp = 3 + 6.25 = 9.25 = 100 - 9.25 =90.75/100 =0.9075\n",
        "    sueldo = sueldo*0.9070\n",
        "\n",
        "  return sueldo\n"
      ],
      "metadata": {
        "id": "LIDjCzt1KLZO"
      },
      "execution_count": null,
      "outputs": []
    },
    {
      "cell_type": "code",
      "source": [
        "valorXhr = 4\n",
        "#isss = 3%\n",
        "#afp = 6.25%\n",
        "numHrs = float(input(\"horas trabajadas: \"))\n",
        "\n",
        "\n",
        "print(\"sueldo: \", sueldo(numHrs, valorXhr))\n"
      ],
      "metadata": {
        "id": "Y5rL3BcZKuhV"
      },
      "execution_count": null,
      "outputs": []
    },
    {
      "cell_type": "markdown",
      "source": [
        "**FUNCIONES LAMBDA**\n",
        "\n",
        "\n",
        "*   FUNCIONES PRECONSTRUIDAS MPA, FILTER, FIND, REDUCE, ETC.\n",
        "\n",
        "\n"
      ],
      "metadata": {
        "id": "NOmOp8UY3LtA"
      }
    },
    {
      "cell_type": "code",
      "source": [
        "def elevarCuadrado(num):\n",
        "  return num**2"
      ],
      "metadata": {
        "id": "Nn9clYHa5Hbl"
      },
      "execution_count": null,
      "outputs": []
    },
    {
      "cell_type": "code",
      "source": [
        "data = [1,2,3,4,5]"
      ],
      "metadata": {
        "id": "Q3SURBrA5LuP"
      },
      "execution_count": null,
      "outputs": []
    },
    {
      "cell_type": "code",
      "source": [
        "resp = map(elevarCuadrado, data)\n",
        "print(list(resp))"
      ],
      "metadata": {
        "id": "1q4F22Va5bNq"
      },
      "execution_count": null,
      "outputs": []
    },
    {
      "cell_type": "code",
      "source": [
        "resp = map(lambda n:n**2, data)\n",
        "print(list(resp))"
      ],
      "metadata": {
        "id": "XgLq3gRa5feY"
      },
      "execution_count": null,
      "outputs": []
    },
    {
      "cell_type": "code",
      "source": [
        "resp = filter(lambda n:n>2, data)\n",
        "print( list(resp) )"
      ],
      "metadata": {
        "id": "9eCFroBg5kO8"
      },
      "execution_count": null,
      "outputs": []
    },
    {
      "cell_type": "code",
      "source": [
        "resp = functools.reduce(lambda a,n:a+n, data)\n",
        "print(resp)"
      ],
      "metadata": {
        "id": "_v7p8Moe5j_r"
      },
      "execution_count": null,
      "outputs": []
    },
    {
      "cell_type": "markdown",
      "source": [
        "**TUPLAS**"
      ],
      "metadata": {
        "id": "t-C8NZqa59KA"
      }
    },
    {
      "cell_type": "code",
      "source": [
        "semana = (\"domingo\", \"lunes\", \"martes\", \"miercoles\", \"jueves\", \"viernes\", \"sabado\")\n",
        "#semana[0] = \"otro\"\n",
        "print( semana.count(\"domingo\") ) #count cuenta el numero de veces que aparece un elemento en la tupla\n",
        "print( len(semana) )"
      ],
      "metadata": {
        "id": "kagoSeHo55fh"
      },
      "execution_count": null,
      "outputs": []
    },
    {
      "cell_type": "markdown",
      "source": [
        "**LISTAS=>ARRAY"
      ],
      "metadata": {
        "id": "KkdDFnV56eZ0"
      }
    },
    {
      "cell_type": "code",
      "source": [
        "meses = [\"ene\", \"feb\", \"mar\", \"abr\", \"may\", \"jun\", \"jul\", \"ago\", \"sep\", \"oct\", \"nov\", \"dic\"]\n",
        "print( meses[-2:] ) #ultimos dos meses del año\n",
        "print( meses[:2] ) #primero dos meses del año\n",
        "\n",
        "meses[0] = \"enero\"\n",
        "\n",
        "print( meses )"
      ],
      "metadata": {
        "id": "94MQQV_D6L0l"
      },
      "execution_count": null,
      "outputs": []
    },
    {
      "cell_type": "code",
      "source": [
        "materias = [ [\"Progra I\", [5,6,8], [8,7,9], [9,10,9] ], [\"Progra II\"] ]\n",
        "print( materias[1][0] )"
      ],
      "metadata": {
        "id": "Cgq6JpuZ6Ls9"
      },
      "execution_count": null,
      "outputs": []
    },
    {
      "cell_type": "markdown",
      "source": [
        "**DICCIONARIOS=>JSON"
      ],
      "metadata": {
        "id": "9i_k5bof6whA"
      }
    },
    {
      "cell_type": "code",
      "source": [
        "materias = {\n",
        "    \"Progra I\": {\n",
        "        \"c1\": {\n",
        "          \"lab1\" : 5,\n",
        "          \"lab2\" : 6,\n",
        "          \"parcial\" : 8\n",
        "      },\n",
        "      \"c2\": {\n",
        "          \"lab1\" : 8,\n",
        "          \"lab2\" : 7,\n",
        "          \"parcial\" : 9\n",
        "      },\n",
        "      \"c3\": {\n",
        "          \"lab1\" : 9,\n",
        "          \"lab2\" : 10,\n",
        "          \"parcial\" : 9\n",
        "      }\n",
        "    },\n",
        "    \"Progra II\" :{\n",
        "\n",
        "    }\n",
        "}\n",
        "print( materias[\"Progra I\"][\"c1\"][\"lab1\"] )"
      ],
      "metadata": {
        "id": "DGlpDOyz62Nn"
      },
      "execution_count": null,
      "outputs": []
    },
    {
      "cell_type": "markdown",
      "source": [
        "**LISTAS**"
      ],
      "metadata": {
        "id": "hubTnkzq63aq"
      }
    },
    {
      "cell_type": "code",
      "source": [
        "data = [2,5,6,8,9]"
      ],
      "metadata": {
        "id": "cNm1Za7v68Kl"
      },
      "execution_count": null,
      "outputs": []
    },
    {
      "cell_type": "code",
      "source": [
        "resp = map(lambda n:n**3, data)\n",
        "print(list(resp))"
      ],
      "metadata": {
        "id": "yPl7fr-n7C67"
      },
      "execution_count": null,
      "outputs": []
    },
    {
      "cell_type": "code",
      "source": [
        "f = map(lambda c:c*9/5 + 32, data)\n",
        "print( list(f) )"
      ],
      "metadata": {
        "id": "mtglrarN7Cyz"
      },
      "execution_count": null,
      "outputs": []
    },
    {
      "cell_type": "code",
      "source": [
        "pares = filter(lambda n:n%2==0, data)\n",
        "print( list(pares) )"
      ],
      "metadata": {
        "id": "eyieJ-iJ7CpK"
      },
      "execution_count": null,
      "outputs": []
    },
    {
      "cell_type": "code",
      "source": [
        "impares = filter(lambda n:n%2!=0, data)\n",
        "print( list(impares) )"
      ],
      "metadata": {
        "id": "I9tk7EyG7Cdl"
      },
      "execution_count": null,
      "outputs": []
    },
    {
      "cell_type": "markdown",
      "source": [
        "**CICLOS**\n",
        "\n",
        "*   FOR\n",
        "\n",
        "\n"
      ],
      "metadata": {
        "id": "eEW-Ed9E74Lp"
      }
    },
    {
      "cell_type": "code",
      "source": [
        "for item in data:\n",
        "  print(item)"
      ],
      "metadata": {
        "id": "jDas5luS8PIB"
      },
      "execution_count": null,
      "outputs": []
    },
    {
      "cell_type": "markdown",
      "source": [
        "\n",
        "\n",
        "*   WHILE\n",
        "\n",
        "\n"
      ],
      "metadata": {
        "id": "KWiSrPYA8TDL"
      }
    },
    {
      "cell_type": "code",
      "source": [
        "i=0\n",
        "n = len(data)\n",
        "while i<n:\n",
        "  print( data[i] )\n",
        "  i+=1"
      ],
      "metadata": {
        "id": "SBfDcCQM8deg"
      },
      "execution_count": null,
      "outputs": []
    },
    {
      "cell_type": "markdown",
      "source": [
        "**TABLA DE MULTIPLICAR**\n"
      ],
      "metadata": {
        "id": "UV4Ze2rD8es4"
      }
    },
    {
      "cell_type": "code",
      "source": [
        "n = int(input(\"N Tabla: \"))\n",
        "\n",
        "for i in range(1,11):\n",
        "  print( n, \"x\", i, \"=\", n*i )"
      ],
      "metadata": {
        "id": "SAUzHGYK8pw5"
      },
      "execution_count": null,
      "outputs": []
    },
    {
      "cell_type": "code",
      "source": [
        "edad = int(input(\"Edad: \"))\n",
        "\n",
        "if edad<=2:\n",
        "  print(\"soy un bebe\")\n",
        "elif edad<=11:\n",
        "  print(\"Soy un niño\")\n",
        "elif edad<18:\n",
        "  print(\"Soy un adolescente\")\n",
        "elif edad<=65:\n",
        "  print(\"soy mayor de edad\")\n",
        "elif edad<=85:\n",
        "  print(\"Soy un adulto mayor\")\n",
        "else:\n",
        "  print(\"Larga vida\")"
      ],
      "metadata": {
        "id": "63O9WasA8scA"
      },
      "execution_count": null,
      "outputs": []
    },
    {
      "cell_type": "code",
      "source": [
        "lista = [5,8,9,15,7,9,2,3, 2, 1]"
      ],
      "metadata": {
        "id": "HdY1oAgy80Hg"
      },
      "execution_count": null,
      "outputs": []
    },
    {
      "cell_type": "code",
      "source": [
        "mayor = 0\n",
        "for num in lista:\n",
        "  if num>mayor:\n",
        "    mayor = num\n",
        "print(\"EL numero mayor de la lista: \", lista, \"es: \", mayor)"
      ],
      "metadata": {
        "id": "qsK0grfL8z7f"
      },
      "execution_count": null,
      "outputs": []
    },
    {
      "cell_type": "code",
      "source": [
        "mayor = 0\n",
        "i=0\n",
        "n=len(lista)\n",
        "while i<n:\n",
        "  if lista[i]>mayor:\n",
        "    mayor = lista[i]\n",
        "  i+=1\n",
        "print(mayor)"
      ],
      "metadata": {
        "id": "e9X9LvuG8znW"
      },
      "execution_count": null,
      "outputs": []
    },
    {
      "cell_type": "markdown",
      "source": [
        "**Escribir un programa que pida la nota de un examen (0,10), en imprima por pantalla la calificacion en formato: \"suspenso\" si la nota es menor a 5, \"Aprobado\" si es entre 5 y 7 inclusive, y 7 sin incluir, \"Notable\" si esta entre 7 inclusive y 9 sin incluir, \"Sobresaliente\" si esta entre 9 inclusive y 10 sin incluir, y \"Honorable\" si es 10**\n"
      ],
      "metadata": {
        "id": "GxhGgtNFJny2"
      }
    },
    {
      "cell_type": "code",
      "source": [
        "nota = float(input(\"ingresar nota: \"))\n",
        "if nota<0 or nota>10:\n",
        "  print(\"nota no valida\")\n",
        "\n",
        "elif  nota<5:\n",
        " print(\"suspendido\")\n",
        "elif nota >=5 and nota <7:\n",
        "  print(\"aprobado\")\n",
        "elif nota<9:\n",
        "  print (\"notable\")\n",
        "elif nota<10:\n",
        "  print(\"sobresaliente\")\n",
        "else:\n",
        "  print(\"honorable\")\n",
        "\n",
        "\n",
        "\n",
        "\n",
        "\n",
        "\n"
      ],
      "metadata": {
        "id": "1TENAlU9JkBc",
        "colab": {
          "base_uri": "https://localhost:8080/"
        },
        "outputId": "d3ff6199-00dc-45e7-8fff-fce0ffac8fe9"
      },
      "execution_count": null,
      "outputs": [
        {
          "output_type": "stream",
          "name": "stdout",
          "text": [
            "ingresar nota: 9.99\n",
            "sobresaliente\n"
          ]
        }
      ]
    },
    {
      "cell_type": "markdown",
      "source": [
        "Escriba un programa que muestre la secuencia fibonacci\n"
      ],
      "metadata": {
        "id": "mBFhiiNTTgO2"
      }
    },
    {
      "cell_type": "code",
      "source": [
        "limit = int(input(\"limit: \"))\n",
        "a=0\n",
        "b=1\n",
        "c=0\n",
        "while c<limit:\n",
        "  c=a+b\n",
        "  print(a, \"+\", b, \"=\", c)\n",
        "  b=a\n",
        "  a=c"
      ],
      "metadata": {
        "id": "LYHeW2DUVH0v"
      },
      "execution_count": null,
      "outputs": []
    },
    {
      "cell_type": "markdown",
      "source": [
        "**proframacion orientada a objetos**\n",
        "CLASE"
      ],
      "metadata": {
        "id": "A9ty8E-RkAPy"
      }
    },
    {
      "cell_type": "code",
      "source": [
        "class Calculadora:\n",
        "  def sumar(sefl, num1, num2):\n",
        "    return num1 + num2"
      ],
      "metadata": {
        "id": "OGAnjw05kFzj"
      },
      "execution_count": null,
      "outputs": []
    },
    {
      "cell_type": "markdown",
      "source": [
        "INSTANCIA DE UNA CLASE"
      ],
      "metadata": {
        "id": "Z_q0V8BVkXOS"
      }
    },
    {
      "cell_type": "code",
      "source": [
        "objCalculadora = Calculadora()"
      ],
      "metadata": {
        "id": "PJFTcou4kdrC"
      },
      "execution_count": null,
      "outputs": []
    },
    {
      "cell_type": "markdown",
      "source": [
        "OBJETO"
      ],
      "metadata": {
        "id": "6oOj_C1GkidK"
      }
    },
    {
      "cell_type": "code",
      "source": [
        "print( \"La suma de 5 + 3 = \", objCalculadora.sumar(5,3) )"
      ],
      "metadata": {
        "id": "dNX4CWchkhaS"
      },
      "execution_count": null,
      "outputs": []
    },
    {
      "cell_type": "markdown",
      "source": [
        "**PARCIAL I**\n"
      ],
      "metadata": {
        "id": "xaoBveOsTjj9"
      }
    },
    {
      "cell_type": "markdown",
      "source": [
        "Desarrolle un algoritmo en Python que calcule el IMPUESTO A LAS\n",
        "ACTIVIDADES ECONOMICAS de acuerdo con la siguiente tabla. El monto\n",
        "de la actividad económica debe ser introducido por el usuario. (30%)"
      ],
      "metadata": {
        "id": "qeex_QnwWUSc"
      }
    },
    {
      "cell_type": "code",
      "source": [
        "def calcular_impuesto(actividad_monetaria):\n",
        "    if actividad_monetaria < 0:\n",
        "        return \"Valor inválido: no se pueden ingresar valores negativos\"\n",
        "    elif 0.01 <= actividad_monetaria <= 500:\n",
        "        valor_pagar = (actividad_monetaria - 0.01)/1000 * 0 + 1.5\n",
        "    elif 500.01 <= actividad_monetaria <= 1000:\n",
        "        valor_pagar = (actividad_monetaria - 500.01)/1000 * 3 + 1.5\n",
        "    elif 1000.01 <= actividad_monetaria <= 2000:\n",
        "        valor_pagar = (actividad_monetaria - 1000.01)/1000 * 3 + 3\n",
        "    elif 2000.01 <= actividad_monetaria <= 3000:\n",
        "        valor_pagar = (actividad_monetaria - 2000.01)/1000 * 3 + 6\n",
        "    elif 3000.01 <= actividad_monetaria <= 6000:\n",
        "        valor_pagar = (actividad_monetaria - 3000.01)/1000 * 2 + 9\n",
        "    elif 6000.01 <= actividad_monetaria <= 8000:\n",
        "        return \"ERROR\"\n",
        "    elif 8000.01 <= actividad_monetaria <= 18000:\n",
        "        valor_pagar = (actividad_monetaria - 8000.01)/1000 * 2 + 15\n",
        "    elif 18000.01 <= actividad_monetaria <= 30000:\n",
        "        valor_pagar = (actividad_monetaria - 18000.01)/1000 * 2 + 39\n",
        "    elif 30000.01 <= actividad_monetaria <= 60000:\n",
        "        valor_pagar = (actividad_monetaria - 30000.01)/1000 * 1 + 63\n",
        "    elif 60000.01 <= actividad_monetaria <= 100000:\n",
        "        valor_pagar = (actividad_monetaria - 60000.01)/1000 * 0.8 + 93\n",
        "    elif 100000.01 <= actividad_monetaria <= 200000:\n",
        "        valor_pagar = (actividad_monetaria - 100000.01)/1000 * 0.7 + 125\n",
        "    elif 200000.01 <= actividad_monetaria <= 300000:\n",
        "        valor_pagar = (actividad_monetaria - 200000.01)/1000 * 0.6 + 195\n",
        "    elif 300000.01 <= actividad_monetaria <= 400000:\n",
        "        valor_pagar = (actividad_monetaria - 300000.01)/1000 * 0.45 + 255\n",
        "    elif 400000.01 <= actividad_monetaria <= 500000:\n",
        "        valor_pagar = (actividad_monetaria - 400000.01)/1000 * 0.4 + 300\n",
        "    elif 500000.01 <= actividad_monetaria <= 1000000:\n",
        "        valor_pagar = (actividad_monetaria - 500000.01)/1000 * 0.30 + 340\n",
        "    else:\n",
        "        valor_pagar = (actividad_monetaria - 1000000.01)/1000 * 0.18 +490\n",
        "\n",
        "    return valor_pagar\n",
        "\n",
        "actividad_monetaria = float(input(\"Ingresa la cantidad de la actividad monetaria: \"))\n",
        "valor_pagar = calcular_impuesto(actividad_monetaria)\n",
        "\n",
        "if isinstance(valor_pagar, str):\n",
        "    print(valor_pagar)\n",
        "else:\n",
        "    print(f\"El valor a pagar es: ${valor_pagar:.2f}\")\n"
      ],
      "metadata": {
        "id": "I5le0TA_k_uT"
      },
      "execution_count": null,
      "outputs": []
    },
    {
      "cell_type": "markdown",
      "source": [
        "Desarrolle el conversor de Área (Superficie) haciendo uso de los\n",
        "diccionarios y las funciones de usuario en Python que contenga las\n",
        "siguientes opciones: (20%)\n",
        "a. Pie Cuadrado\n",
        "b. Vara Cuadrada\n",
        "c. Yarda Cuadrada\n",
        "d. Metro Cuadrado\n",
        "e. Tareas\n",
        "f. Manzana\n",
        "g. Hectárea\n",
        "\n",
        "---\n",
        "\n"
      ],
      "metadata": {
        "id": "IIBnvxYC615T"
      }
    },
    {
      "cell_type": "code",
      "source": [
        "def convertir_area(valor, unidad_origen, unidad_destino):\n",
        "    # Define factores de conversión para diferentes unidades de área\n",
        "    conversiones = {\n",
        "        \"metro_cuadrado\": {\n",
        "            \"pie_cuadrado\": 10.7639,\n",
        "            \"vara_cuadrada\": 0.239913,\n",
        "            \"yarda_cuadrada\": 1.19599,\n",
        "            \"tareas\": 0.0247,\n",
        "            \"manzana\": 0.0001,\n",
        "            \"hectarea\": 0.0001\n",
        "        },\n",
        "        \"pie_cuadrado\": {\n",
        "            \"metro_cuadrado\": 0.092903,\n",
        "            \"vara_cuadrada\": 0.0229568,\n",
        "            \"yarda_cuadrada\": 0.111111,\n",
        "            \"tareas\": 0.0023,\n",
        "            \"manzana\": 0.00000942,\n",
        "            \"hectarea\": 0.00000942\n",
        "        },\n",
        "        \"vara_cuadrada\": {\n",
        "            \"metro_cuadrado\": 4.16723,\n",
        "            \"pie_cuadrado\": 43.56,\n",
        "            \"yarda_cuadrada\": 209.999,\n",
        "            \"tareas\": 4.36654,\n",
        "            \"manzana\": 0.04366,\n",
        "            \"hectarea\": 0.04366\n",
        "        },\n",
        "        \"yarda_cuadrada\": {\n",
        "            \"metro_cuadrado\": 0.836127,\n",
        "            \"pie_cuadrado\": 9,\n",
        "            \"vara_cuadrada\": 0.0047619,\n",
        "            \"tareas\": 0.0209,\n",
        "            \"manzana\": 0.00008495,\n",
        "            \"hectarea\": 0.00008495\n",
        "        },\n",
        "        \"tareas\": {\n",
        "            \"metro_cuadrado\": 40.4686,\n",
        "            \"pie_cuadrado\": 43560,\n",
        "            \"vara_cuadrada\": 2177.53,\n",
        "            \"yarda_cuadrada\": 4840,\n",
        "            \"manzana\": 4,\n",
        "            \"hectarea\": 4\n",
        "        },\n",
        "        \"manzana\": {\n",
        "            \"metro_cuadrado\": 7000,\n",
        "            \"pie_cuadrado\": 107639,\n",
        "            \"vara_cuadrada\": 10000,\n",
        "            \"yarda_cuadrada\": 11959.9,\n",
        "            \"tareas\": 4,\n",
        "            \"hectarea\": 0.70\n",
        "        },\n",
        "        \"hectarea\": {\n",
        "            \"metro_cuadrado\": 10000,\n",
        "            \"pie_cuadrado\": 107639,\n",
        "            \"vara_cuadrada\": 2399.13,\n",
        "            \"yarda_cuadrada\": 11959.9,\n",
        "            \"tareas\": 4,\n",
        "            \"manzana\": 1\n",
        "        }\n",
        "    }\n",
        "\n",
        "    # Realiza la conversión\n",
        "    if unidad_origen in conversiones and unidad_destino in conversiones[unidad_origen]:\n",
        "        factor_conversion = conversiones[unidad_origen][unidad_destino]\n",
        "        resultado = valor * factor_conversion\n",
        "        return resultado\n",
        "    else:\n",
        "        return \"Unidad de conversión no válida.\"\n",
        "\n",
        "while True:\n",
        "    print(\"Conversor de Área\")\n",
        "    print(\"Unidades disponibles: metro_cuadrado, pie_cuadrado, vara_cuadrada, yarda_cuadrada, tareas, manzana, hectarea\")\n",
        "    print(\"Ejemplo de entrada: 100 metro_cuadrado a pie_cuadrado\")\n",
        "    print(\"Ingrese 'salir' para salir.\")\n",
        "\n",
        "    entrada = input(\"Ingrese la conversión que desea realizar: \")\n",
        "\n",
        "    if entrada.lower() == 'salir':\n",
        "        break\n",
        "\n",
        "    partes = entrada.split()\n",
        "\n",
        "    if len(partes) != 4:\n",
        "        print(\"Formato de entrada no válido. Debe ser en el formato 'valor unidad_origen a unidad_destino'.\")\n",
        "        continue\n",
        "\n",
        "    try:\n",
        "        valor = float(partes[0])\n",
        "        unidad_origen = partes[1]\n",
        "        unidad_destino = partes[3]\n",
        "    except ValueError:\n",
        "        print(\"Valor no válido. Debe ingresar un número.\")\n",
        "        continue\n",
        "\n",
        "    resultado = convertir_area(valor, unidad_origen, unidad_destino)\n",
        "\n",
        "    if isinstance(resultado, float):\n",
        "        # Redondea el resultado a 2 decimales\n",
        "        resultado_redondeado = round(resultado, 2)\n",
        "        print(f\"{valor} {unidad_origen} son aproximadamente {resultado_redondeado} {unidad_destino}.\")\n",
        "    else:\n",
        "        print(resultado)"
      ],
      "metadata": {
        "id": "AjuLkrwelZZq"
      },
      "execution_count": null,
      "outputs": []
    },
    {
      "cell_type": "markdown",
      "source": [
        "GUIA DE TRABAJO"
      ],
      "metadata": {
        "id": "nDnB4v6IJqg_"
      }
    },
    {
      "cell_type": "markdown",
      "source": [
        "Calcular sobre el sueldo las deducciones por ley ISSS (3%), AFP(6.25%), ISR(Según tabla) e imprima el total deducciones\n",
        "y sueldo neto. (20%)"
      ],
      "metadata": {
        "id": "ISiPZy07J-B6"
      }
    },
    {
      "cell_type": "code",
      "source": [
        "def sueldo(numHrs, valorXhr):\n",
        "  sueldo = numHrs*valorXhr*30\n",
        "  if(numHrs>8):\n",
        "    sueldo += (numHrs-8)*valorXhr*2*30\n",
        "  #isss + afp = 3 + 6.25 = 9.25 = 100 - 9.25 = 90.25/100 = 0.9025\n",
        "  return sueldo"
      ],
      "metadata": {
        "id": "ScXSd8UIJ_UO"
      },
      "execution_count": null,
      "outputs": []
    },
    {
      "cell_type": "code",
      "source": [
        "tabla_isr = [\n",
        "    [0.01, 472, 0, 0],\n",
        "    [472.01, 895.24, 0.1, 17.67],\n",
        "    [895.25, 2038.1, 0.2, 60.00],\n",
        "    [2038.11,9999999, 0.3, 288.57]\n",
        "]"
      ],
      "metadata": {
        "id": "4SdMEuL6KaAx"
      },
      "execution_count": null,
      "outputs": []
    },
    {
      "cell_type": "code",
      "source": [
        "def calcularIsr(sueldo, sueldoNeto):\n",
        "  impSr = 0\n",
        "  for tramo in tabla_isr:\n",
        "    if sueldo>tramo[0] and sueldo<=tramo[1]:\n",
        "      impSr = (sueldoNeto-tramo[0])*tramo[2] + tramo[3]\n",
        "  return impSr"
      ],
      "metadata": {
        "id": "SkGdjfaQKZ5Y"
      },
      "execution_count": null,
      "outputs": []
    },
    {
      "cell_type": "code",
      "source": [
        "valorXhr = 4\n",
        "#isss = 3%\n",
        "#afp = 6.25%\n",
        "numHrs = float(input(\"Horas trabajadas: \"))\n",
        "s = sueldo(numHrs, valorXhr)\n",
        "isr = calcularIsr(s, s * 0.9025)\n",
        "afp_seguro = s * (1 - 0.9025)  # Monto reducido por AFP y seguro\n",
        "\n",
        "# Redondear y formatear como cadenas con dos decimales\n",
        "s_str = \"%.2f\" % round(s, 2)\n",
        "isr_str = \"%.2f\" % round(isr, 2)\n",
        "afp_seguro_str = \"%.2f\" % round(afp_seguro, 2)\n",
        "saldo_final_str = \"%.2f\" % round(s * 0.9025 - isr, 2)\n",
        "\n",
        "print(\"Sueldo:\", s_str, \"ISR:\", isr_str, \"AFP y Seguro:\", afp_seguro_str, \"Saldo final:\", saldo_final_str)"
      ],
      "metadata": {
        "id": "mqPnPE7MKZwg"
      },
      "execution_count": null,
      "outputs": []
    },
    {
      "cell_type": "markdown",
      "source": [
        ":Calcular el valor a pagar según el número de metros consumidos de agua potable (Ver tabla en la siguiente diapositiva).\n",
        "(20%)"
      ],
      "metadata": {
        "id": "sec9hFErK6N9"
      }
    },
    {
      "cell_type": "code",
      "source": [
        "def calcular_valor_a_pagar(metros_consumidos):\n",
        "    if metros_consumidos < 0:\n",
        "        return \"Valor inválido: no se pueden ingresar valores negativos\"\n",
        "    elif 1 <= metros_consumidos <= 18:\n",
        "        valor_pagar = 6\n",
        "    elif 19 <= metros_consumidos <= 28:\n",
        "        valor_pagar = (metros_consumidos - 18) * 0.45 + 6\n",
        "    else:\n",
        "        valor_pagar = (metros_consumidos - 28) * 0.65 + (28 - 18) * 0.45 + 6\n",
        "\n",
        "    return valor_pagar\n",
        "\n",
        "metros_consumidos = float(input(\"Ingresa la cantidad de metros consumidos: \"))\n",
        "valor_pagar = calcular_valor_a_pagar(metros_consumidos)\n",
        "\n",
        "if isinstance(valor_pagar, str):\n",
        "    print(valor_pagar)\n",
        "else:\n",
        "    print(f\"El valor a pagar es: ${valor_pagar:.2f}\")\n"
      ],
      "metadata": {
        "id": "oJA7PyEDK-Cn"
      },
      "execution_count": null,
      "outputs": []
    },
    {
      "cell_type": "markdown",
      "source": [
        "Desarrolle la tabla de meses acumulados a n meses. Si puede encontrar la formula matemática para evitar ciclos. (10%)"
      ],
      "metadata": {
        "id": "jFPd30KWLI2v"
      }
    },
    {
      "cell_type": "code",
      "source": [
        "limit = int(input(\"limit: \"))\n",
        "a=1\n",
        "b=0\n",
        "c=0\n",
        "while   a<limit:\n",
        "  c=a+b\n",
        "  print(\"Acumulaciòn de meses: \", a, \"+\", b, \"=\", c)\n",
        "  a=a+1\n",
        "  b=c"
      ],
      "metadata": {
        "id": "UOyi42IzLOsD"
      },
      "execution_count": null,
      "outputs": []
    },
    {
      "cell_type": "markdown",
      "source": [
        "Conversores: (40%) (10 ítems como mínimo por cada uno)\n",
        "• Monedas (Resuelto en clases)\n",
        "• Longitud\n",
        "• Masa\n",
        "• Almacenamiento\n",
        "• Tiempo\n",
        "• Volumen\n",
        "• Área\n",
        "• Manzanas\n",
        "• Tareas\n",
        "• ..."
      ],
      "metadata": {
        "id": "WzIu5HGrLUI9"
      }
    },
    {
      "cell_type": "code",
      "source": [
        "def convert_currency(amount, from_currency, to_currency):\n",
        "    exchange_rates = {\n",
        "        'USD': 1.0,\n",
        "        'EUR': 0.85,\n",
        "        'GBP': 0.73,\n",
        "        'JPY': 110.29\n",
        "        # Agrega más tasas de cambio según sea necesario\n",
        "    }\n",
        "\n",
        "    if from_currency in exchange_rates and to_currency in exchange_rates:\n",
        "        converted_amount = amount * exchange_rates[to_currency] / exchange_rates[from_currency]\n",
        "        return converted_amount\n",
        "    else:\n",
        "        return None\n",
        "\n",
        "# Solicitar al usuario ingresar los detalles de la conversión\n",
        "while True:\n",
        "    try:\n",
        "        amount = float(input(\"Ingresa el monto a convertir: \"))\n",
        "        break\n",
        "    except ValueError:\n",
        "        print(\"Ingresa un monto válido.\")\n",
        "\n",
        "from_currency = input(\"Ingresa la moneda de origen (USD, EUR, GBP, JPY, etc.): \").upper()\n",
        "to_currency = input(\"Ingresa la moneda de destino (USD, EUR, GBP, JPY, etc.): \").upper()\n",
        "\n",
        "# Realizar la conversión\n",
        "converted_amount = convert_currency(amount, from_currency, to_currency)\n",
        "\n",
        "if converted_amount is not None:\n",
        "    print(f\"{amount} {from_currency} equivale a {converted_amount:.2f} {to_currency}\")\n",
        "else:\n",
        "    print(\"Monedas no soportadas. Por favor, asegúrate de ingresar monedas válidas.\")"
      ],
      "metadata": {
        "id": "woAZ5w8TLZuO"
      },
      "execution_count": null,
      "outputs": []
    },
    {
      "cell_type": "code",
      "source": [
        "def convert_length(length, from_unit, to_unit):\n",
        "    conversion_factors = {\n",
        "        'metro': 1.0,\n",
        "        'pie': 3.28084,\n",
        "        'yarda': 1.09361,\n",
        "        'pulgada': 39.3701,\n",
        "        # Agrega más factores de conversión según sea necesario\n",
        "    }\n",
        "\n",
        "    from_unit = from_unit.lower()\n",
        "    to_unit = to_unit.lower()\n",
        "\n",
        "    if from_unit in conversion_factors and to_unit in conversion_factors:\n",
        "        converted_length = length * conversion_factors[to_unit] / conversion_factors[from_unit]\n",
        "        return converted_length\n",
        "    else:\n",
        "        return None\n",
        "\n",
        "# Solicitar al usuario ingresar los detalles de la conversión\n",
        "length = float(input(\"Ingresa la longitud a convertir: \"))\n",
        "from_unit = input(\"Ingresa la unidad de origen (metro, pie, yarda, pulgada, etc.): \")\n",
        "to_unit = input(\"Ingresa la unidad de destino (metro, pie, yarda, pulgada, etc.): \")\n",
        "\n",
        "# Realizar la conversión\n",
        "converted_length = convert_length(length, from_unit, to_unit)\n",
        "\n",
        "if converted_length is not None:\n",
        "    print(f\"{length} {from_unit} equivale a {converted_length:.2f} {to_unit}\")\n",
        "else:\n",
        "    print(\"Unidades no soportadas. Por favor, asegúrate de ingresar unidades válidas.\")\n",
        "\n"
      ],
      "metadata": {
        "id": "_dOYAXnCLpgI"
      },
      "execution_count": null,
      "outputs": []
    },
    {
      "cell_type": "code",
      "source": [
        "def convert_mass(mass, from_unit, to_unit):\n",
        "    conversion_factors = {\n",
        "        'gramo': 1.0,\n",
        "        'kilogramo': 0.001,\n",
        "        'libra': 0.00220462,\n",
        "        'onza': 0.03527396,\n",
        "        # Agrega más factores de conversión según sea necesario\n",
        "    }\n",
        "\n",
        "    from_unit = from_unit.lower()\n",
        "    to_unit = to_unit.lower()\n",
        "\n",
        "    if from_unit in conversion_factors and to_unit in conversion_factors:\n",
        "        converted_mass = mass * conversion_factors[to_unit] / conversion_factors[from_unit]\n",
        "        return converted_mass\n",
        "    else:\n",
        "        return None\n",
        "\n",
        "# Solicitar al usuario ingresar los detalles de la conversión\n",
        "mass = float(input(\"Ingresa la masa a convertir: \"))\n",
        "from_unit = input(\"Ingresa la unidad de origen (gramo, kilogramo, libra, onza, etc.): \")\n",
        "to_unit = input(\"Ingresa la unidad de destino (gramo, kilogramo, libra, onza, etc.): \")\n",
        "\n",
        "# Realizar la conversión\n",
        "converted_mass = convert_mass(mass, from_unit, to_unit)\n",
        "\n",
        "if converted_mass is not None:\n",
        "    print(f\"{mass} {from_unit} equivale a {converted_mass:.2f} {to_unit}\")\n",
        "else:\n",
        "    print(\"Unidades no soportadas. Por favor, asegúrate de ingresar unidades válidas.\")\n"
      ],
      "metadata": {
        "id": "uIH0znYdLpY7"
      },
      "execution_count": null,
      "outputs": []
    },
    {
      "cell_type": "code",
      "source": [
        "def convert_storage(size, from_unit, to_unit):\n",
        "    conversion_factors = {\n",
        "        'bytes': 1.0,\n",
        "        'kilobytes': 1e-3,\n",
        "        'megabytes': 1e-6,\n",
        "        'gigabytes': 1e-9,\n",
        "        'terabytes': 1e-12,\n",
        "        # Agrega más factores de conversión según sea necesario\n",
        "    }\n",
        "\n",
        "    if from_unit in conversion_factors and to_unit in conversion_factors:\n",
        "        converted_size = size * conversion_factors[to_unit] / conversion_factors[from_unit]\n",
        "        return converted_size\n",
        "    else:\n",
        "        return None\n",
        "\n",
        "# Solicitar al usuario ingresar los detalles de la conversión\n",
        "size = float(input(\"Ingresa el tamaño a convertir: \"))\n",
        "from_unit = input(\"Ingresa la unidad de origen (bytes, kilobytes, megabytes, gigabytes, terabytes, etc.): \").lower()\n",
        "to_unit = input(\"Ingresa la unidad de destino (bytes, kilobytes, megabytes, gigabytes, terabytes, etc.): \").lower()\n",
        "\n",
        "# Realizar la conversión\n",
        "converted_size = convert_storage(size, from_unit, to_unit)\n",
        "\n",
        "if converted_size is not None:\n",
        "    print(f\"{size} {from_unit} equivale a {converted_size:.6f} {to_unit}\")\n",
        "else:\n",
        "    print(\"Unidades no soportadas. Por favor, asegúrate de ingresar unidades válidas.\")\n"
      ],
      "metadata": {
        "id": "EzzcqRXOLpPc"
      },
      "execution_count": null,
      "outputs": []
    },
    {
      "cell_type": "code",
      "source": [
        "def convert_time(time, from_unit, to_unit):\n",
        "    conversion_factors = {\n",
        "        'segundos': 1.0,\n",
        "        'minutos': 1 / 60,\n",
        "        'horas': 1 / 3600,\n",
        "        'dias': 1 / 86400,\n",
        "        # Agrega más factores de conversión según sea necesario\n",
        "    }\n",
        "\n",
        "    if from_unit in conversion_factors and to_unit in conversion_factors:\n",
        "        converted_time = time * conversion_factors[to_unit] / conversion_factors[from_unit]\n",
        "        return converted_time\n",
        "    else:\n",
        "        return None\n",
        "\n",
        "# Solicitar al usuario ingresar los detalles de la conversión\n",
        "time = float(input(\"Ingresa el tiempo a convertir: \"))\n",
        "from_unit = input(\"Ingresa la unidad de origen (segundos, minutos, horas, dias, etc.): \").lower()\n",
        "to_unit = input(\"Ingresa la unidad de destino (segundos, minutos, horas, dias, etc.): \").lower()\n",
        "\n",
        "# Realizar la conversión\n",
        "converted_time = convert_time(time, from_unit, to_unit)\n",
        "\n",
        "if converted_time is not None:\n",
        "    print(f\"{time} {from_unit} equivale a {converted_time:.6f} {to_unit}\")\n",
        "else:\n",
        "    print(\"Unidades no soportadas. Por favor, asegúrate de ingresar unidades válidas.\")\n"
      ],
      "metadata": {
        "id": "oXioS65RMMK8"
      },
      "execution_count": null,
      "outputs": []
    },
    {
      "cell_type": "code",
      "source": [
        "def convert_volume(volume, from_unit, to_unit):\n",
        "    conversion_factors = {\n",
        "        'metros cubicos': 1.0,\n",
        "        'centimetros cubicos': 1e6,\n",
        "        'litros': 1000,\n",
        "        'mililitros': 1000000,\n",
        "        # Agrega más factores de conversión según sea necesario\n",
        "    }\n",
        "\n",
        "    if from_unit in conversion_factors and to_unit in conversion_factors:\n",
        "        converted_volume = volume * conversion_factors[to_unit] / conversion_factors[from_unit]\n",
        "        return converted_volume\n",
        "    else:\n",
        "        return None\n",
        "\n",
        "# Solicitar al usuario ingresar los detalles de la conversión\n",
        "volume = float(input(\"Ingresa el volumen a convertir: \"))\n",
        "from_unit = input(\"Ingresa la unidad de origen (metros cubicos, centimetros cubicos, litros, mililitros, etc.): \").lower()\n",
        "to_unit = input(\"Ingresa la unidad de destino (metros cubicos, centimetros cubicos, litros, mililitros, etc.): \").lower()\n",
        "\n",
        "# Realizar la conversión\n",
        "converted_volume = convert_volume(volume, from_unit, to_unit)\n",
        "\n",
        "if converted_volume is not None:\n",
        "    print(f\"{volume} {from_unit} equivale a {converted_volume:.6f} {to_unit}\")\n",
        "else:\n",
        "    print(\"Unidades no soportadas. Por favor, asegúrate de ingresar unidades válidas.\")\n"
      ],
      "metadata": {
        "id": "7gE8E1CkMMFE"
      },
      "execution_count": null,
      "outputs": []
    },
    {
      "cell_type": "code",
      "source": [
        "def convert_area(area, from_unit, to_unit):\n",
        "    conversion_factors = {\n",
        "        'metros cuadrados': 1.0,\n",
        "        'centimetros cuadrados': 10000,\n",
        "        'kilometros cuadrados': 1e-6,\n",
        "        'millas cuadrados': 3.861e-7,\n",
        "        # Agrega más factores de conversión según sea necesario\n",
        "    }\n",
        "\n",
        "    if from_unit in conversion_factors and to_unit in conversion_factors:\n",
        "        converted_area = area * conversion_factors[to_unit] / conversion_factors[from_unit]\n",
        "        return converted_area\n",
        "    else:\n",
        "        return None\n",
        "\n",
        "# Solicitar al usuario ingresar los detalles de la conversión\n",
        "area = float(input(\"Ingresa el área a convertir: \"))\n",
        "from_unit = input(\"Ingresa la unidad de origen (metros cuadrados, centimetros cuadrados, kilometros cuadrados, millas cuadrados, etc.): \").lower()\n",
        "to_unit = input(\"Ingresa la unidad de destino (metros cuadrados ,centimetros cuadrados ,kilometros cuadrados, millas cuadrados, etc.): \").lower()\n",
        "\n",
        "# Realizar la conversión\n",
        "converted_area = convert_area(area, from_unit, to_unit)\n",
        "\n",
        "if converted_area is not None:\n",
        "    print(f\"{area} {from_unit} equivale a {converted_area:.6f} {to_unit}\")\n",
        "else:\n",
        "    print(\"Unidades no soportadas. Por favor, asegúrate de ingresar unidades válidas.\")\n"
      ],
      "metadata": {
        "id": "_d35gg0SMl4y"
      },
      "execution_count": null,
      "outputs": []
    },
    {
      "cell_type": "markdown",
      "source": [
        "• Realizar un conversor propio, donde espesifique el valor de conversión: (10%)\n",
        "• 1 caja -> 25 unidad. Viceversa 80 unidades – 3/5 -> cajas/unidades\n",
        "• 1 saco -> 50 libras. Viceversa 130 libras – 2/30 -> sacos/libras\n",
        "• 1 fardo -> 5 unidades. Viceversa 28 unidades – 5/3 -> fardos/unidades"
      ],
      "metadata": {
        "id": "Z01vOguXMphf"
      }
    },
    {
      "cell_type": "code",
      "source": [
        "def convertir_cajas_unidades(cantidad, conversion):\n",
        "    if conversion == \"cajas\":\n",
        "        return cantidad / 25\n",
        "    elif conversion == \"unidades\":\n",
        "        return cantidad * 25\n",
        "\n",
        "def convertir_sacos_libras(cantidad, conversion):\n",
        "    if conversion == \"sacos\":\n",
        "        return cantidad / 50\n",
        "    elif conversion == \"libras\":\n",
        "        return cantidad * 50\n",
        "\n",
        "def convertir_fardos_unidades(cantidad, conversion):\n",
        "    if conversion == \"fardos\":\n",
        "        return cantidad / 5\n",
        "    elif conversion == \"unidades\":\n",
        "        return cantidad * 5\n",
        "\n",
        "def main():\n",
        "    print(\"Conversor de unidades:\")\n",
        "    print(\"1. Cajas a Unidades\")\n",
        "    print(\"2. Unidades a Cajas\")\n",
        "    print(\"3. Sacos a Libras\")\n",
        "    print(\"4. Libras a Sacos\")\n",
        "    print(\"5. Fardos a Unidades\")\n",
        "    print(\"6. Unidades a Fardos\")\n",
        "\n",
        "    opcion = int(input(\"Selecciona una opción (1-6): \"))\n",
        "    cantidad = float(input(\"Ingresa la cantidad: \"))\n",
        "\n",
        "    if opcion == 1:\n",
        "        resultado = convertir_cajas_unidades(cantidad, \"unidades\")\n",
        "        print(f\"{cantidad} cajas son {resultado} unidades.\")\n",
        "    elif opcion == 2:\n",
        "        resultado = convertir_cajas_unidades(cantidad, \"cajas\")\n",
        "        print(f\"{cantidad} unidades son {resultado} cajas.\")\n",
        "    elif opcion == 3:\n",
        "        resultado = convertir_sacos_libras(cantidad, \"libras\")\n",
        "        print(f\"{cantidad} sacos son {resultado} libras.\")\n",
        "    elif opcion == 4:\n",
        "        resultado = convertir_sacos_libras(cantidad, \"sacos\")\n",
        "        print(f\"{cantidad} libras son {resultado} sacos.\")\n",
        "    elif opcion == 5:\n",
        "        resultado = convertir_fardos_unidades(cantidad, \"unidades\")\n",
        "        print(f\"{cantidad} fardos son {resultado} unidades.\")\n",
        "    elif opcion == 6:\n",
        "        resultado = convertir_fardos_unidades(cantidad, \"fardos\")\n",
        "        print(f\"{cantidad} unidades son {resultado} fardos.\")\n",
        "    else:\n",
        "        print(\"Opción inválida. Debes seleccionar una opción del 1 al 6.\")\n",
        "\n",
        "if __name__ == \"__main__\":\n",
        "    main()\n"
      ],
      "metadata": {
        "id": "YqlrzxK2Mlve"
      },
      "execution_count": null,
      "outputs": []
    }
  ]
}