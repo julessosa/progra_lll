{
  "nbformat": 4,
  "nbformat_minor": 0,
  "metadata": {
    "colab": {
      "provenance": [],
      "authorship_tag": "ABX9TyPb5ui+QaDUwIfBXpMgDs/q",
      "include_colab_link": true
    },
    "kernelspec": {
      "name": "python3",
      "display_name": "Python 3"
    },
    "language_info": {
      "name": "python"
    }
  },
  "cells": [
    {
      "cell_type": "markdown",
      "metadata": {
        "id": "view-in-github",
        "colab_type": "text"
      },
      "source": [
        "<a href=\"https://colab.research.google.com/github/julessosa/progra_lll/blob/main/ejemplos_basicos_en_python.ipynb\" target=\"_parent\"><img src=\"https://colab.research.google.com/assets/colab-badge.svg\" alt=\"Open In Colab\"/></a>"
      ]
    },
    {
      "cell_type": "code",
      "execution_count": null,
      "metadata": {
        "colab": {
          "base_uri": "https://localhost:8080/"
        },
        "id": "_eKvahP-Gct8",
        "outputId": "4532d902-7098-4f85-d0bc-d54582c3a595"
      },
      "outputs": [
        {
          "output_type": "stream",
          "name": "stdout",
          "text": [
            "Hola mundo\n"
          ]
        }
      ],
      "source": [
        "saludo = \"Hola mundo\"\n",
        "\n",
        "print(saludo)"
      ]
    },
    {
      "cell_type": "code",
      "source": [
        "num1 = 5\n",
        "num2 = 7.5\n",
        "resp = num1 + num2\n",
        "print(\"la suma de\", num1, \"+\", num2, \"+\", resp)\n"
      ],
      "metadata": {
        "colab": {
          "base_uri": "https://localhost:8080/"
        },
        "id": "a8o7tHU7Izmu",
        "outputId": "02079ff3-d3bc-4a02-d6ac-9ddc5d0861f4"
      },
      "execution_count": null,
      "outputs": [
        {
          "output_type": "stream",
          "name": "stdout",
          "text": [
            "la suma de 5 + 7.5 + 12.5\n"
          ]
        }
      ]
    },
    {
      "cell_type": "code",
      "source": [
        "name = \"Julissa Sosa\"\n",
        "edad = 20\n",
        "saludo = \"Hola \" + name +\", tu edad \" + str (edad)\n",
        "print(saludo)"
      ],
      "metadata": {
        "colab": {
          "base_uri": "https://localhost:8080/"
        },
        "id": "3xZyYTiQKG7D",
        "outputId": "4df229a7-078a-47cc-dbf9-da86790ab4e4"
      },
      "execution_count": null,
      "outputs": [
        {
          "output_type": "stream",
          "name": "stdout",
          "text": [
            "Hola Julissa Sosa, tu edad 20\n"
          ]
        }
      ]
    },
    {
      "cell_type": "code",
      "source": [
        "nombre = input(\"dime tu nombre:\")\n",
        "edad = input(\"tu edad:\")\n",
        "saludo = \"hola que tal \" + nombre + \", tu edad: \" + edad\n",
        "print(saludo)"
      ],
      "metadata": {
        "colab": {
          "base_uri": "https://localhost:8080/"
        },
        "id": "H7Iyxqg2LQut",
        "outputId": "1ef2ef24-54d5-4e19-afaa-f0eec8361ec4"
      },
      "execution_count": null,
      "outputs": [
        {
          "output_type": "stream",
          "name": "stdout",
          "text": [
            "dime tu nombre:julissa \n",
            "tu edad:20\n",
            "hola que tal julissa , tu edad: 20\n"
          ]
        }
      ]
    },
    {
      "cell_type": "code",
      "source": [
        "num1 =  int(input(\"ingresa un numero: \"))\n",
        "num2 = int(input(\"ingresa un numero: \"))\n",
        "resp = num1 + num2\n",
        "print (\"la suma de\" + str(resp))\n",
        "\n"
      ],
      "metadata": {
        "id": "VllyaGE_Mgw3"
      },
      "execution_count": null,
      "outputs": []
    },
    {
      "cell_type": "code",
      "source": [
        "num1 = float(input(\"num1:\"))\n",
        "num2 = float(input(\"num2:\"))\n",
        "resp = num1 - num2\n",
        "print(\"la resta es: \", resp)\n"
      ],
      "metadata": {
        "colab": {
          "base_uri": "https://localhost:8080/"
        },
        "id": "bE4nNZncPFsP",
        "outputId": "9838aa63-d479-446c-f255-38aa5af14374"
      },
      "execution_count": null,
      "outputs": [
        {
          "output_type": "stream",
          "name": "stdout",
          "text": [
            "num1:2.5\n",
            "num2:1.3\n",
            "la resta es:  1.2\n"
          ]
        }
      ]
    },
    {
      "cell_type": "markdown",
      "source": [
        "Introduccion a python\n",
        "\n",
        "Declaracion de variables"
      ],
      "metadata": {
        "id": "SSlR0VevHnct"
      }
    },
    {
      "cell_type": "markdown",
      "source": [
        "**FUNCIONES DE USURARIO**\n",
        "\n",
        "  *CONVERTIR GRADOS CELSIUS A FARENHEIT"
      ],
      "metadata": {
        "id": "OLVPLrULAth5"
      }
    },
    {
      "cell_type": "code",
      "source": [
        "def convertir (c):\n",
        "  return c*9/5 + 32"
      ],
      "metadata": {
        "id": "_b2Dq-zQBwzB"
      },
      "execution_count": null,
      "outputs": []
    },
    {
      "cell_type": "code",
      "source": [
        "c = float(input(\"celsius: \"))\n",
        "print(\"F: \", convertir(c))\n"
      ],
      "metadata": {
        "colab": {
          "base_uri": "https://localhost:8080/"
        },
        "id": "JDqkwQpPA3LC",
        "outputId": "fbbc1f29-17df-474b-d134-e44bbf66316b"
      },
      "execution_count": null,
      "outputs": [
        {
          "output_type": "stream",
          "name": "stdout",
          "text": [
            "celsius: 42\n",
            "F:  107.6\n"
          ]
        }
      ]
    },
    {
      "cell_type": "code",
      "source": [
        "def convertir (F):\n",
        "  return (F-32) *5/9"
      ],
      "metadata": {
        "id": "EZj-m7xyFGFx"
      },
      "execution_count": null,
      "outputs": []
    },
    {
      "cell_type": "code",
      "source": [
        "F = float(input(\"farenheit: \"))\n",
        "print(\"c: \", convertir(F))"
      ],
      "metadata": {
        "colab": {
          "base_uri": "https://localhost:8080/"
        },
        "id": "m-9TG1upE62y",
        "outputId": "5e665cce-82c2-4333-aa79-c084bdbb6c7b"
      },
      "execution_count": null,
      "outputs": [
        {
          "output_type": "stream",
          "name": "stdout",
          "text": [
            "farenheit: 107.6\n",
            "c:  42.0\n"
          ]
        }
      ]
    },
    {
      "cell_type": "code",
      "source": [
        "def convertir (f):\n",
        "  return (f-32) *5/9 + 273.15"
      ],
      "metadata": {
        "id": "UALEqN6vHTJI"
      },
      "execution_count": null,
      "outputs": []
    },
    {
      "cell_type": "code",
      "source": [
        "f = float(input(\"farenheit: \"))\n",
        "print(\"K: \", convertir(f))\n"
      ],
      "metadata": {
        "colab": {
          "base_uri": "https://localhost:8080/"
        },
        "id": "DNbwRetbGsvp",
        "outputId": "169e3d46-6b5f-4b1e-a720-2892a3c80d1f"
      },
      "execution_count": null,
      "outputs": [
        {
          "output_type": "stream",
          "name": "stdout",
          "text": [
            "farenheit: 107.6\n",
            "K:  315.15\n"
          ]
        }
      ]
    },
    {
      "cell_type": "markdown",
      "source": [
        "CALCULAR EL SUELDO MENSUAL"
      ],
      "metadata": {
        "id": "BIkdiq6RKHF9"
      }
    },
    {
      "cell_type": "code",
      "source": [
        "def sueldo(numHrs, valorXhr):\n",
        "  sueldo = numHrs*valorXhr*30\n",
        "  if (numHrs>8):\n",
        "    sueldo += (numHrs-8)*valorXhr*2*30\n",
        "    #isss + afp = 3 + 6.25 = 9.25 = 100 - 9.25 =90.75/100 =0.9075\n",
        "    sueldo = sueldo*0.9070\n",
        "\n",
        "  return sueldo\n"
      ],
      "metadata": {
        "id": "LIDjCzt1KLZO"
      },
      "execution_count": null,
      "outputs": []
    },
    {
      "cell_type": "code",
      "source": [
        "valorXhr = 4\n",
        "#isss = 3%\n",
        "#afp = 6.25%\n",
        "numHrs = float(input(\"horas trabajadas: \"))\n",
        "\n",
        "\n",
        "print(\"sueldo: \", sueldo(numHrs, valorXhr))\n"
      ],
      "metadata": {
        "id": "Y5rL3BcZKuhV"
      },
      "execution_count": null,
      "outputs": []
    },
    {
      "cell_type": "markdown",
      "source": [
        "**FUNCIONES LAMBDA**\n",
        "\n",
        "\n",
        "*   FUNCIONES PRECONSTRUIDAS MPA, FILTER, FIND, REDUCE, ETC.\n",
        "\n",
        "\n"
      ],
      "metadata": {
        "id": "NOmOp8UY3LtA"
      }
    },
    {
      "cell_type": "code",
      "source": [
        "def elevarCuadrado(num):\n",
        "  return num**2"
      ],
      "metadata": {
        "id": "Nn9clYHa5Hbl"
      },
      "execution_count": null,
      "outputs": []
    },
    {
      "cell_type": "code",
      "source": [
        "data = [1,2,3,4,5]"
      ],
      "metadata": {
        "id": "Q3SURBrA5LuP"
      },
      "execution_count": null,
      "outputs": []
    },
    {
      "cell_type": "code",
      "source": [
        "resp = map(elevarCuadrado, data)\n",
        "print(list(resp))"
      ],
      "metadata": {
        "id": "1q4F22Va5bNq"
      },
      "execution_count": null,
      "outputs": []
    },
    {
      "cell_type": "code",
      "source": [
        "resp = map(lambda n:n**2, data)\n",
        "print(list(resp))"
      ],
      "metadata": {
        "id": "XgLq3gRa5feY"
      },
      "execution_count": null,
      "outputs": []
    },
    {
      "cell_type": "code",
      "source": [
        "resp = filter(lambda n:n>2, data)\n",
        "print( list(resp) )"
      ],
      "metadata": {
        "id": "9eCFroBg5kO8"
      },
      "execution_count": null,
      "outputs": []
    },
    {
      "cell_type": "code",
      "source": [
        "resp = functools.reduce(lambda a,n:a+n, data)\n",
        "print(resp)"
      ],
      "metadata": {
        "id": "_v7p8Moe5j_r"
      },
      "execution_count": null,
      "outputs": []
    },
    {
      "cell_type": "markdown",
      "source": [
        "**TUPLAS**"
      ],
      "metadata": {
        "id": "t-C8NZqa59KA"
      }
    },
    {
      "cell_type": "code",
      "source": [
        "semana = (\"domingo\", \"lunes\", \"martes\", \"miercoles\", \"jueves\", \"viernes\", \"sabado\")\n",
        "#semana[0] = \"otro\"\n",
        "print( semana.count(\"domingo\") ) #count cuenta el numero de veces que aparece un elemento en la tupla\n",
        "print( len(semana) )"
      ],
      "metadata": {
        "id": "kagoSeHo55fh"
      },
      "execution_count": null,
      "outputs": []
    },
    {
      "cell_type": "markdown",
      "source": [
        "**LISTAS=>ARRAY"
      ],
      "metadata": {
        "id": "KkdDFnV56eZ0"
      }
    },
    {
      "cell_type": "code",
      "source": [
        "meses = [\"ene\", \"feb\", \"mar\", \"abr\", \"may\", \"jun\", \"jul\", \"ago\", \"sep\", \"oct\", \"nov\", \"dic\"]\n",
        "print( meses[-2:] ) #ultimos dos meses del año\n",
        "print( meses[:2] ) #primero dos meses del año\n",
        "\n",
        "meses[0] = \"enero\"\n",
        "\n",
        "print( meses )"
      ],
      "metadata": {
        "id": "94MQQV_D6L0l"
      },
      "execution_count": null,
      "outputs": []
    },
    {
      "cell_type": "code",
      "source": [
        "materias = [ [\"Progra I\", [5,6,8], [8,7,9], [9,10,9] ], [\"Progra II\"] ]\n",
        "print( materias[1][0] )"
      ],
      "metadata": {
        "id": "Cgq6JpuZ6Ls9"
      },
      "execution_count": null,
      "outputs": []
    },
    {
      "cell_type": "markdown",
      "source": [
        "**DICCIONARIOS=>JSON"
      ],
      "metadata": {
        "id": "9i_k5bof6whA"
      }
    },
    {
      "cell_type": "code",
      "source": [
        "materias = {\n",
        "    \"Progra I\": {\n",
        "        \"c1\": {\n",
        "          \"lab1\" : 5,\n",
        "          \"lab2\" : 6,\n",
        "          \"parcial\" : 8\n",
        "      },\n",
        "      \"c2\": {\n",
        "          \"lab1\" : 8,\n",
        "          \"lab2\" : 7,\n",
        "          \"parcial\" : 9\n",
        "      },\n",
        "      \"c3\": {\n",
        "          \"lab1\" : 9,\n",
        "          \"lab2\" : 10,\n",
        "          \"parcial\" : 9\n",
        "      }\n",
        "    },\n",
        "    \"Progra II\" :{\n",
        "\n",
        "    }\n",
        "}\n",
        "print( materias[\"Progra I\"][\"c1\"][\"lab1\"] )"
      ],
      "metadata": {
        "id": "DGlpDOyz62Nn"
      },
      "execution_count": null,
      "outputs": []
    },
    {
      "cell_type": "markdown",
      "source": [
        "**LISTAS**"
      ],
      "metadata": {
        "id": "hubTnkzq63aq"
      }
    },
    {
      "cell_type": "code",
      "source": [
        "data = [2,5,6,8,9]"
      ],
      "metadata": {
        "id": "cNm1Za7v68Kl"
      },
      "execution_count": null,
      "outputs": []
    },
    {
      "cell_type": "code",
      "source": [
        "resp = map(lambda n:n**3, data)\n",
        "print(list(resp))"
      ],
      "metadata": {
        "id": "yPl7fr-n7C67"
      },
      "execution_count": null,
      "outputs": []
    },
    {
      "cell_type": "code",
      "source": [
        "f = map(lambda c:c*9/5 + 32, data)\n",
        "print( list(f) )"
      ],
      "metadata": {
        "id": "mtglrarN7Cyz"
      },
      "execution_count": null,
      "outputs": []
    },
    {
      "cell_type": "code",
      "source": [
        "pares = filter(lambda n:n%2==0, data)\n",
        "print( list(pares) )"
      ],
      "metadata": {
        "id": "eyieJ-iJ7CpK"
      },
      "execution_count": null,
      "outputs": []
    },
    {
      "cell_type": "code",
      "source": [
        "impares = filter(lambda n:n%2!=0, data)\n",
        "print( list(impares) )"
      ],
      "metadata": {
        "id": "I9tk7EyG7Cdl"
      },
      "execution_count": null,
      "outputs": []
    },
    {
      "cell_type": "markdown",
      "source": [
        "**CICLOS**\n",
        "\n",
        "*   FOR\n",
        "\n",
        "\n"
      ],
      "metadata": {
        "id": "eEW-Ed9E74Lp"
      }
    },
    {
      "cell_type": "code",
      "source": [
        "for item in data:\n",
        "  print(item)"
      ],
      "metadata": {
        "id": "jDas5luS8PIB"
      },
      "execution_count": null,
      "outputs": []
    },
    {
      "cell_type": "markdown",
      "source": [
        "\n",
        "\n",
        "*   WHILE\n",
        "\n",
        "\n"
      ],
      "metadata": {
        "id": "KWiSrPYA8TDL"
      }
    },
    {
      "cell_type": "code",
      "source": [
        "i=0\n",
        "n = len(data)\n",
        "while i<n:\n",
        "  print( data[i] )\n",
        "  i+=1"
      ],
      "metadata": {
        "id": "SBfDcCQM8deg"
      },
      "execution_count": null,
      "outputs": []
    },
    {
      "cell_type": "markdown",
      "source": [
        "**TABLA DE MULTIPLICAR**\n"
      ],
      "metadata": {
        "id": "UV4Ze2rD8es4"
      }
    },
    {
      "cell_type": "code",
      "source": [
        "n = int(input(\"N Tabla: \"))\n",
        "\n",
        "for i in range(1,11):\n",
        "  print( n, \"x\", i, \"=\", n*i )"
      ],
      "metadata": {
        "id": "SAUzHGYK8pw5"
      },
      "execution_count": null,
      "outputs": []
    },
    {
      "cell_type": "code",
      "source": [
        "edad = int(input(\"Edad: \"))\n",
        "\n",
        "if edad<=2:\n",
        "  print(\"soy un bebe\")\n",
        "elif edad<=11:\n",
        "  print(\"Soy un niño\")\n",
        "elif edad<18:\n",
        "  print(\"Soy un adolescente\")\n",
        "elif edad<=65:\n",
        "  print(\"soy mayor de edad\")\n",
        "elif edad<=85:\n",
        "  print(\"Soy un adulto mayor\")\n",
        "else:\n",
        "  print(\"Larga vida\")"
      ],
      "metadata": {
        "id": "63O9WasA8scA"
      },
      "execution_count": null,
      "outputs": []
    },
    {
      "cell_type": "code",
      "source": [
        "lista = [5,8,9,15,7,9,2,3, 2, 1]"
      ],
      "metadata": {
        "id": "HdY1oAgy80Hg"
      },
      "execution_count": null,
      "outputs": []
    },
    {
      "cell_type": "code",
      "source": [
        "mayor = 0\n",
        "for num in lista:\n",
        "  if num>mayor:\n",
        "    mayor = num\n",
        "print(\"EL numero mayor de la lista: \", lista, \"es: \", mayor)"
      ],
      "metadata": {
        "id": "qsK0grfL8z7f"
      },
      "execution_count": null,
      "outputs": []
    },
    {
      "cell_type": "code",
      "source": [
        "mayor = 0\n",
        "i=0\n",
        "n=len(lista)\n",
        "while i<n:\n",
        "  if lista[i]>mayor:\n",
        "    mayor = lista[i]\n",
        "  i+=1\n",
        "print(mayor)"
      ],
      "metadata": {
        "id": "e9X9LvuG8znW"
      },
      "execution_count": null,
      "outputs": []
    },
    {
      "cell_type": "markdown",
      "source": [
        "**Escribir un programa que pida la nota de un examen (0,10), en imprima por pantalla la calificacion en formato: \"suspenso\" si la nota es menor a 5, \"Aprobado\" si es entre 5 y 7 inclusive, y 7 sin incluir, \"Notable\" si esta entre 7 inclusive y 9 sin incluir, \"Sobresaliente\" si esta entre 9 inclusive y 10 sin incluir, y \"Honorable\" si es 10**\n"
      ],
      "metadata": {
        "id": "GxhGgtNFJny2"
      }
    },
    {
      "cell_type": "code",
      "source": [
        "nota = float(input(\"ingresar nota: \"))\n",
        "if nota<0 or nota>10:\n",
        "  print(\"nota no valida\")\n",
        "\n",
        "elif  nota<5:\n",
        " print(\"suspendido\")\n",
        "elif nota >=5 and nota <7:\n",
        "  print(\"aprobado\")\n",
        "elif nota<9:\n",
        "  print (\"notable\")\n",
        "elif nota<10:\n",
        "  print(\"sobresaliente\")\n",
        "else:\n",
        "  print(\"honorable\")\n",
        "\n",
        "\n",
        "\n",
        "\n",
        "\n",
        "\n"
      ],
      "metadata": {
        "id": "1TENAlU9JkBc",
        "colab": {
          "base_uri": "https://localhost:8080/"
        },
        "outputId": "d3ff6199-00dc-45e7-8fff-fce0ffac8fe9"
      },
      "execution_count": null,
      "outputs": [
        {
          "output_type": "stream",
          "name": "stdout",
          "text": [
            "ingresar nota: 9.99\n",
            "sobresaliente\n"
          ]
        }
      ]
    },
    {
      "cell_type": "markdown",
      "source": [
        "Escriba un programa que muestre la secuencia fibonacci\n"
      ],
      "metadata": {
        "id": "mBFhiiNTTgO2"
      }
    },
    {
      "cell_type": "code",
      "source": [
        "limit = int(input(\"limit: \"))\n",
        "a=0\n",
        "b=1\n",
        "c=0\n",
        "while c<limit:\n",
        "  c=a+b\n",
        "  print(a, \"+\", b, \"=\", c)\n",
        "  b=a\n",
        "  a=c"
      ],
      "metadata": {
        "id": "LYHeW2DUVH0v"
      },
      "execution_count": null,
      "outputs": []
    },
    {
      "cell_type": "markdown",
      "source": [
        "**proframacion orientada a objetos**\n",
        "CLASE"
      ],
      "metadata": {
        "id": "A9ty8E-RkAPy"
      }
    },
    {
      "cell_type": "code",
      "source": [
        "class Calculadora:\n",
        "  def sumar(sefl, num1, num2):\n",
        "    return num1 + num2"
      ],
      "metadata": {
        "id": "OGAnjw05kFzj"
      },
      "execution_count": null,
      "outputs": []
    },
    {
      "cell_type": "markdown",
      "source": [
        "INSTANCIA DE UNA CLASE"
      ],
      "metadata": {
        "id": "Z_q0V8BVkXOS"
      }
    },
    {
      "cell_type": "code",
      "source": [
        "objCalculadora = Calculadora()"
      ],
      "metadata": {
        "id": "PJFTcou4kdrC"
      },
      "execution_count": null,
      "outputs": []
    },
    {
      "cell_type": "markdown",
      "source": [
        "OBJETO"
      ],
      "metadata": {
        "id": "6oOj_C1GkidK"
      }
    },
    {
      "cell_type": "code",
      "source": [],
      "metadata": {
        "id": "dNX4CWchkhaS"
      },
      "execution_count": null,
      "outputs": []
    },
    {
      "cell_type": "markdown",
      "source": [
        "**PARCIAL I**\n"
      ],
      "metadata": {
        "id": "xaoBveOsTjj9"
      }
    },
    {
      "cell_type": "markdown",
      "source": [
        "Desarrolle un algoritmo en Python que calcule el IMPUESTO A LAS\n",
        "ACTIVIDADES ECONOMICAS de acuerdo con la siguiente tabla. El monto\n",
        "de la actividad económica debe ser introducido por el usuario. (30%)"
      ],
      "metadata": {
        "id": "qeex_QnwWUSc"
      }
    },
    {
      "cell_type": "code",
      "source": [
        "def calcular_impuesto(actividad_monetaria):\n",
        "    if actividad_monetaria < 0:\n",
        "        return \"Valor inválido: no se pueden ingresar valores negativos\"\n",
        "    elif 0.01 <= actividad_monetaria <= 500:\n",
        "        valor_pagar = (actividad_monetaria - 0.01)/1000 * 0 + 1.5\n",
        "    elif 500.01 <= actividad_monetaria <= 1000:\n",
        "        valor_pagar = (actividad_monetaria - 500.01)/1000 * 3 + 1.5\n",
        "    elif 1000.01 <= actividad_monetaria <= 2000:\n",
        "        valor_pagar = (actividad_monetaria - 1000.01)/1000 * 3 + 3\n",
        "    elif 2000.01 <= actividad_monetaria <= 3000:\n",
        "        valor_pagar = (actividad_monetaria - 2000.01)/1000 * 3 + 6\n",
        "    elif 3000.01 <= actividad_monetaria <= 6000:\n",
        "        valor_pagar = (actividad_monetaria - 3000.01)/1000 * 2 + 9\n",
        "    elif 6000.01 <= actividad_monetaria <= 8000:\n",
        "        return \"ERROR\"\n",
        "    elif 8000.01 <= actividad_monetaria <= 18000:\n",
        "        valor_pagar = (actividad_monetaria - 8000.01)/1000 * 2 + 15\n",
        "    elif 18000.01 <= actividad_monetaria <= 30000:\n",
        "        valor_pagar = (actividad_monetaria - 18000.01)/1000 * 2 + 39\n",
        "    elif 30000.01 <= actividad_monetaria <= 60000:\n",
        "        valor_pagar = (actividad_monetaria - 30000.01)/1000 * 1 + 63\n",
        "    elif 60000.01 <= actividad_monetaria <= 100000:\n",
        "        valor_pagar = (actividad_monetaria - 60000.01)/1000 * 0.8 + 93\n",
        "    elif 100000.01 <= actividad_monetaria <= 200000:\n",
        "        valor_pagar = (actividad_monetaria - 100000.01)/1000 * 0.7 + 125\n",
        "    elif 200000.01 <= actividad_monetaria <= 300000:\n",
        "        valor_pagar = (actividad_monetaria - 200000.01)/1000 * 0.6 + 195\n",
        "    elif 300000.01 <= actividad_monetaria <= 400000:\n",
        "        valor_pagar = (actividad_monetaria - 300000.01)/1000 * 0.45 + 255\n",
        "    elif 400000.01 <= actividad_monetaria <= 500000:\n",
        "        valor_pagar = (actividad_monetaria - 400000.01)/1000 * 0.4 + 300\n",
        "    elif 500000.01 <= actividad_monetaria <= 1000000:\n",
        "        valor_pagar = (actividad_monetaria - 500000.01)/1000 * 0.30 + 340\n",
        "    else:\n",
        "        valor_pagar = (actividad_monetaria - 1000000.01)/1000 * 0.18 +490\n",
        "\n",
        "    return valor_pagar\n",
        "\n",
        "actividad_monetaria = float(input(\"Ingresa la cantidad de la actividad monetaria: \"))\n",
        "valor_pagar = calcular_impuesto(actividad_monetaria)\n",
        "\n",
        "if isinstance(valor_pagar, str):\n",
        "    print(valor_pagar)\n",
        "else:\n",
        "    print(f\"El valor a pagar es: ${valor_pagar:.2f}\")\n"
      ],
      "metadata": {
        "id": "I5le0TA_k_uT"
      },
      "execution_count": null,
      "outputs": []
    },
    {
      "cell_type": "markdown",
      "source": [
        "Desarrolle el conversor de Área (Superficie) haciendo uso de los\n",
        "diccionarios y las funciones de usuario en Python que contenga las\n",
        "siguientes opciones: (20%)\n",
        "a. Pie Cuadrado\n",
        "b. Vara Cuadrada\n",
        "c. Yarda Cuadrada\n",
        "d. Metro Cuadrado\n",
        "e. Tareas\n",
        "f. Manzana\n",
        "g. Hectárea\n",
        "\n",
        "---\n",
        "\n"
      ],
      "metadata": {
        "id": "IIBnvxYC615T"
      }
    },
    {
      "cell_type": "code",
      "source": [
        "def convertir_area(valor, unidad_origen, unidad_destino):\n",
        "    # Define factores de conversión para diferentes unidades de área\n",
        "    conversiones = {\n",
        "        \"metro_cuadrado\": {\n",
        "            \"pie_cuadrado\": 10.7639,\n",
        "            \"vara_cuadrada\": 0.239913,\n",
        "            \"yarda_cuadrada\": 1.19599,\n",
        "            \"tareas\": 0.0247,\n",
        "            \"manzana\": 0.0001,\n",
        "            \"hectarea\": 0.0001\n",
        "        },\n",
        "        \"pie_cuadrado\": {\n",
        "            \"metro_cuadrado\": 0.092903,\n",
        "            \"vara_cuadrada\": 0.0229568,\n",
        "            \"yarda_cuadrada\": 0.111111,\n",
        "            \"tareas\": 0.0023,\n",
        "            \"manzana\": 0.00000942,\n",
        "            \"hectarea\": 0.00000942\n",
        "        },\n",
        "        \"vara_cuadrada\": {\n",
        "            \"metro_cuadrado\": 4.16723,\n",
        "            \"pie_cuadrado\": 43.56,\n",
        "            \"yarda_cuadrada\": 209.999,\n",
        "            \"tareas\": 4.36654,\n",
        "            \"manzana\": 0.04366,\n",
        "            \"hectarea\": 0.04366\n",
        "        },\n",
        "        \"yarda_cuadrada\": {\n",
        "            \"metro_cuadrado\": 0.836127,\n",
        "            \"pie_cuadrado\": 9,\n",
        "            \"vara_cuadrada\": 0.0047619,\n",
        "            \"tareas\": 0.0209,\n",
        "            \"manzana\": 0.00008495,\n",
        "            \"hectarea\": 0.00008495\n",
        "        },\n",
        "        \"tareas\": {\n",
        "            \"metro_cuadrado\": 40.4686,\n",
        "            \"pie_cuadrado\": 43560,\n",
        "            \"vara_cuadrada\": 2177.53,\n",
        "            \"yarda_cuadrada\": 4840,\n",
        "            \"manzana\": 4,\n",
        "            \"hectarea\": 4\n",
        "        },\n",
        "        \"manzana\": {\n",
        "            \"metro_cuadrado\": 7000,\n",
        "            \"pie_cuadrado\": 107639,\n",
        "            \"vara_cuadrada\": 10000,\n",
        "            \"yarda_cuadrada\": 11959.9,\n",
        "            \"tareas\": 4,\n",
        "            \"hectarea\": 0.70\n",
        "        },\n",
        "        \"hectarea\": {\n",
        "            \"metro_cuadrado\": 10000,\n",
        "            \"pie_cuadrado\": 107639,\n",
        "            \"vara_cuadrada\": 2399.13,\n",
        "            \"yarda_cuadrada\": 11959.9,\n",
        "            \"tareas\": 4,\n",
        "            \"manzana\": 1\n",
        "        }\n",
        "    }\n",
        "\n",
        "    # Realiza la conversión\n",
        "    if unidad_origen in conversiones and unidad_destino in conversiones[unidad_origen]:\n",
        "        factor_conversion = conversiones[unidad_origen][unidad_destino]\n",
        "        resultado = valor * factor_conversion\n",
        "        return resultado\n",
        "    else:\n",
        "        return \"Unidad de conversión no válida.\"\n",
        "\n",
        "while True:\n",
        "    print(\"Conversor de Área\")\n",
        "    print(\"Unidades disponibles: metro_cuadrado, pie_cuadrado, vara_cuadrada, yarda_cuadrada, tareas, manzana, hectarea\")\n",
        "    print(\"Ejemplo de entrada: 100 metro_cuadrado a pie_cuadrado\")\n",
        "    print(\"Ingrese 'salir' para salir.\")\n",
        "\n",
        "    entrada = input(\"Ingrese la conversión que desea realizar: \")\n",
        "\n",
        "    if entrada.lower() == 'salir':\n",
        "        break\n",
        "\n",
        "    partes = entrada.split()\n",
        "\n",
        "    if len(partes) != 4:\n",
        "        print(\"Formato de entrada no válido. Debe ser en el formato 'valor unidad_origen a unidad_destino'.\")\n",
        "        continue\n",
        "\n",
        "    try:\n",
        "        valor = float(partes[0])\n",
        "        unidad_origen = partes[1]\n",
        "        unidad_destino = partes[3]\n",
        "    except ValueError:\n",
        "        print(\"Valor no válido. Debe ingresar un número.\")\n",
        "        continue\n",
        "\n",
        "    resultado = convertir_area(valor, unidad_origen, unidad_destino)\n",
        "\n",
        "    if isinstance(resultado, float):\n",
        "        # Redondea el resultado a 2 decimales\n",
        "        resultado_redondeado = round(resultado, 2)\n",
        "        print(f\"{valor} {unidad_origen} son aproximadamente {resultado_redondeado} {unidad_destino}.\")\n",
        "    else:\n",
        "        print(resultado)"
      ],
      "metadata": {
        "id": "AjuLkrwelZZq"
      },
      "execution_count": null,
      "outputs": []
    }
  ]
}